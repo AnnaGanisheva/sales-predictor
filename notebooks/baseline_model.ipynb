{
 "cells": [
  {
   "cell_type": "markdown",
   "id": "1733d07e",
   "metadata": {},
   "source": [
    "# First model for prediction of sales"
   ]
  },
  {
   "cell_type": "code",
   "execution_count": 1,
   "id": "a4db914a",
   "metadata": {},
   "outputs": [],
   "source": [
    "import pandas as pd\n",
    "from sklearn.ensemble import RandomForestRegressor\n",
    "from sklearn.metrics import root_mean_squared_error"
   ]
  },
  {
   "cell_type": "code",
   "execution_count": 2,
   "id": "7f7efb84",
   "metadata": {},
   "outputs": [],
   "source": [
    "##import mlflow\n",
    "##import os\n",
    "\n",
    "#mlflow.set_tracking_uri(\"file://\" + os.path.abspath(\"../mlruns\"))"
   ]
  },
  {
   "cell_type": "code",
   "execution_count": 3,
   "id": "f19542e4",
   "metadata": {},
   "outputs": [
    {
     "name": "stdout",
     "output_type": "stream",
     "text": [
      "<class 'pandas.core.frame.DataFrame'>\n",
      "RangeIndex: 1017209 entries, 0 to 1017208\n",
      "Data columns (total 18 columns):\n",
      " #   Column                     Non-Null Count    Dtype  \n",
      "---  ------                     --------------    -----  \n",
      " 0   Store                      1017209 non-null  int64  \n",
      " 1   DayOfWeek                  1017209 non-null  int64  \n",
      " 2   Date                       1017209 non-null  object \n",
      " 3   Sales                      1017209 non-null  int64  \n",
      " 4   Customers                  1017209 non-null  int64  \n",
      " 5   Open                       1017209 non-null  int64  \n",
      " 6   Promo                      1017209 non-null  int64  \n",
      " 7   StateHoliday               1017209 non-null  object \n",
      " 8   SchoolHoliday              1017209 non-null  int64  \n",
      " 9   StoreType                  1017209 non-null  object \n",
      " 10  Assortment                 1017209 non-null  object \n",
      " 11  CompetitionDistance        1014567 non-null  float64\n",
      " 12  CompetitionOpenSinceMonth  693861 non-null   float64\n",
      " 13  CompetitionOpenSinceYear   693861 non-null   float64\n",
      " 14  Promo2                     1017209 non-null  int64  \n",
      " 15  Promo2SinceWeek            509178 non-null   float64\n",
      " 16  Promo2SinceYear            509178 non-null   float64\n",
      " 17  PromoInterval              509178 non-null   object \n",
      "dtypes: float64(5), int64(8), object(5)\n",
      "memory usage: 139.7+ MB\n"
     ]
    }
   ],
   "source": [
    "df_store = pd.read_csv('../data/store.csv')\n",
    "df_train = pd.read_csv('../data/train.csv', low_memory=False)\n",
    "df = pd.merge(df_train, df_store, on=\"Store\", how=\"left\")\n",
    "df.info()"
   ]
  },
  {
   "cell_type": "markdown",
   "id": "027ec311",
   "metadata": {},
   "source": [
    "I will select DayOfWeek, Store, Promo as first features"
   ]
  },
  {
   "cell_type": "code",
   "execution_count": 4,
   "id": "71170243",
   "metadata": {},
   "outputs": [],
   "source": [
    "#selekt features\n",
    "X_train = df[['DayOfWeek', 'Store', 'Promo']]\n",
    "y_train = df['Sales']"
   ]
  },
  {
   "cell_type": "code",
   "execution_count": 5,
   "id": "5d910af1",
   "metadata": {},
   "outputs": [],
   "source": [
    "import sys\n",
    "import os\n",
    "sys.path.append(os.path.abspath(\"../\"))"
   ]
  },
  {
   "cell_type": "code",
   "execution_count": 6,
   "id": "6a411351",
   "metadata": {},
   "outputs": [],
   "source": [
    "##from src.model import train_model\n",
    "##model = train_model(X_train, y_train)"
   ]
  },
  {
   "cell_type": "code",
   "execution_count": 7,
   "id": "c6771ccc",
   "metadata": {},
   "outputs": [],
   "source": [
    "##from src.model import evaluate_model\n",
    "##rmse = evaluate_model(model, X_train, y_train)\n",
    "##print(f\"RMSE: {rmse}\")\n"
   ]
  },
  {
   "cell_type": "code",
   "execution_count": 8,
   "id": "d500c78a",
   "metadata": {},
   "outputs": [
    {
     "name": "stderr",
     "output_type": "stream",
     "text": [
      "2025/05/15 12:07:48 INFO mlflow.tracking.fluent: Experiment with name 'sales-predictor-experiment' does not exist. Creating a new experiment.\n",
      "\u001b[31m2025/05/15 12:09:16 WARNING mlflow.models.model: Model logged without a signature and input example. Please set `input_example` parameter when logging the model to auto infer the model signature.\u001b[0m\n"
     ]
    },
    {
     "name": "stdout",
     "output_type": "stream",
     "text": [
      "🏃 View run unruly-wren-790 at: https://dagshub.com/AnnaGanisheva/sales-predictor.mlflow/#/experiments/0/runs/6f3c3b0e54a54f2ebbdef9118a4a4adf\n",
      "🧪 View experiment at: https://dagshub.com/AnnaGanisheva/sales-predictor.mlflow/#/experiments/0\n",
      "Experiment tracked successfully.\n"
     ]
    }
   ],
   "source": [
    "from src.model import track_experiment\n",
    "\n",
    "track_experiment(X_train, y_train) \n",
    "print(\"Experiment tracked successfully.\")"
   ]
  },
  {
   "cell_type": "markdown",
   "id": "3dc7a155",
   "metadata": {},
   "source": []
  }
 ],
 "metadata": {
  "kernelspec": {
   "display_name": "venv",
   "language": "python",
   "name": "python3"
  },
  "language_info": {
   "codemirror_mode": {
    "name": "ipython",
    "version": 3
   },
   "file_extension": ".py",
   "mimetype": "text/x-python",
   "name": "python",
   "nbconvert_exporter": "python",
   "pygments_lexer": "ipython3",
   "version": "3.11.4"
  }
 },
 "nbformat": 4,
 "nbformat_minor": 5
}
